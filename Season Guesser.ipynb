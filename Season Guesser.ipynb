{
  "nbformat": 4,
  "nbformat_minor": 0,
  "metadata": {
    "colab": {
      "name": "Untitled1.ipynb",
      "provenance": [],
      "authorship_tag": "ABX9TyMqn0EPIw31ewOzgangEC2A",
      "include_colab_link": true
    },
    "kernelspec": {
      "name": "python3",
      "display_name": "Python 3"
    },
    "language_info": {
      "name": "python"
    }
  },
  "cells": [
    {
      "cell_type": "markdown",
      "metadata": {
        "id": "view-in-github",
        "colab_type": "text"
      },
      "source": [
        "<a href=\"https://colab.research.google.com/github/Honkboypog/afeqn/blob/main/Season%20Guesser.ipynb\" target=\"_parent\"><img src=\"https://colab.research.google.com/assets/colab-badge.svg\" alt=\"Open In Colab\"/></a>"
      ]
    },
    {
      "cell_type": "code",
      "source": [
        "import requests\n",
        "\n",
        "# This function will pass your text to the machine learning model\n",
        "# and return the top result with the highest confidence\n",
        "def classify(text):\n",
        "    key = \"5bf97a50-8643-11ec-8dc8-b5d94df8be93470b40f1-6302-4383-afc7-9242f4649821\"\n",
        "    url = \"https://machinelearningforkids.co.uk/api/scratch/\"+ key + \"/classify\"\n",
        "\n",
        "    response = requests.get(url, params={ \"data\" : text })\n",
        "\n",
        "    if response.ok:\n",
        "        responseData = response.json()\n",
        "        topMatch = responseData[0]\n",
        "        return topMatch\n",
        "    else:\n",
        "        response.raise_for_status()\n",
        "\n",
        "\n",
        "# CHANGE THIS to something you want your machine learning model to classify\n",
        "text = input(\"Describe the season? \")\n",
        "demo = classify(text)\n",
        "\n",
        "label = demo[\"class_name\"]\n",
        "confidence = demo[\"confidence\"]\n",
        "\n",
        "\n",
        "# CHANGE THIS to do something different with the result\n",
        "print (\"result: '%s' with %d%% confidence\" % (label, confidence))"
      ],
      "metadata": {
        "colab": {
          "base_uri": "https://localhost:8080/"
        },
        "id": "EXOs_jU7WTAQ",
        "outputId": "e6a66e30-db87-4656-dec5-227256fbbc92"
      },
      "execution_count": 2,
      "outputs": [
        {
          "output_type": "stream",
          "name": "stdout",
          "text": [
            "Describe the season? hot\n",
            "result: 'Summer' with 100% confidence\n"
          ]
        }
      ]
    }
  ]
}