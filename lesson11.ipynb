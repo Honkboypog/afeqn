{
  "nbformat": 4,
  "nbformat_minor": 0,
  "metadata": {
    "colab": {
      "name": "lesson11.ipynb",
      "provenance": [],
      "collapsed_sections": [],
      "authorship_tag": "ABX9TyPHmofY4jdx+n8XVVCqT6IT",
      "include_colab_link": true
    },
    "kernelspec": {
      "name": "python3",
      "display_name": "Python 3"
    },
    "language_info": {
      "name": "python"
    }
  },
  "cells": [
    {
      "cell_type": "markdown",
      "metadata": {
        "id": "view-in-github",
        "colab_type": "text"
      },
      "source": [
        "<a href=\"https://colab.research.google.com/github/Honkboypog/afeqn/blob/main/lesson11.ipynb\" target=\"_parent\"><img src=\"https://colab.research.google.com/assets/colab-badge.svg\" alt=\"Open In Colab\"/></a>"
      ]
    },
    {
      "cell_type": "code",
      "metadata": {
        "colab": {
          "base_uri": "https://localhost:8080/"
        },
        "id": "7rIHIL5x9Zv1",
        "outputId": "74e11797-0fdb-4fc1-f491-fceee67ed91e"
      },
      "source": [
        "\n",
        "params = {\"earth_date\":\"2016-10-17\", \"api_key\":\"DEMO_KEY\"} f = r\"https://api.nasa.gov/mars-photos/api/v1/rovers/curiosity/photos?\""
      ],
      "execution_count": null,
      "outputs": [
        {
          "output_type": "stream",
          "text": [
            "What you know about rollin’ down in the deep? When your brain goes numb you can call that mental freeze. When these people talk too much, put that in slow motion, yeah. I feel like an astronaut in the ocean, ayy.\n"
          ],
          "name": "stdout"
        }
      ]
    },
    {
      "cell_type": "code",
      "metadata": {
        "id": "x5JC255C_Ks2"
      },
      "source": [
        ""
      ],
      "execution_count": null,
      "outputs": []
    },
    {
      "cell_type": "code",
      "metadata": {
        "colab": {
          "base_uri": "https://localhost:8080/"
        },
        "id": "KIuzQzRcB9zl",
        "outputId": "0d959dd2-6550-476f-e942-3e13427f5bd1"
      },
      "source": [
        "import requests\n",
        "import json\n",
        "import webbrowser\n",
        "\n",
        "params = {\"earth_date\":\"2016-10-17\", \"api_key\":\"DEMO_KEY\"}\n",
        "f = r\"https://api.nasa.gov/mars-photos/api/v1/rovers/curiosity/photos?\"\n",
        "data=requests.get(f, params=params)\n",
        "image_data=json.loads(data.text)\n",
        "print(len(image_data[\"photos\"]))\n",
        "for i in image_data[\"photos\"]:\n",
        "  print(i,  \"\\n\\n\\n\")\n",
        "  url=i[\"img_src\"]\n",
        "  print(url)\n",
        "  yesno=input(\"do u: want to contine\")\n",
        "  if  yesno == 'no':\n",
        "    break"
      ],
      "execution_count": null,
      "outputs": [
        {
          "output_type": "stream",
          "text": [
            "435\n",
            "{'id': 591702, 'sol': 1492, 'camera': {'id': 20, 'name': 'FHAZ', 'rover_id': 5, 'full_name': 'Front Hazard Avoidance Camera'}, 'img_src': 'http://mars.jpl.nasa.gov/msl-raw-images/proj/msl/redops/ods/surface/sol/01492/opgs/edr/fcam/FLB_529940530EDR_F0582046FHAZ00337M_.JPG', 'earth_date': '2016-10-17', 'rover': {'id': 5, 'name': 'Curiosity', 'landing_date': '2012-08-06', 'launch_date': '2011-11-26', 'status': 'active'}} \n",
            "\n",
            "\n",
            "\n",
            "http://mars.jpl.nasa.gov/msl-raw-images/proj/msl/redops/ods/surface/sol/01492/opgs/edr/fcam/FLB_529940530EDR_F0582046FHAZ00337M_.JPG\n",
            "do u: want to contineyes\n",
            "{'id': 591703, 'sol': 1492, 'camera': {'id': 20, 'name': 'FHAZ', 'rover_id': 5, 'full_name': 'Front Hazard Avoidance Camera'}, 'img_src': 'http://mars.jpl.nasa.gov/msl-raw-images/proj/msl/redops/ods/surface/sol/01492/opgs/edr/fcam/FRB_529940530EDR_F0582046FHAZ00337M_.JPG', 'earth_date': '2016-10-17', 'rover': {'id': 5, 'name': 'Curiosity', 'landing_date': '2012-08-06', 'launch_date': '2011-11-26', 'status': 'active'}} \n",
            "\n",
            "\n",
            "\n",
            "http://mars.jpl.nasa.gov/msl-raw-images/proj/msl/redops/ods/surface/sol/01492/opgs/edr/fcam/FRB_529940530EDR_F0582046FHAZ00337M_.JPG\n",
            "do u: want to contine\n",
            "{'id': 591704, 'sol': 1492, 'camera': {'id': 20, 'name': 'FHAZ', 'rover_id': 5, 'full_name': 'Front Hazard Avoidance Camera'}, 'img_src': 'http://mars.jpl.nasa.gov/msl-raw-images/proj/msl/redops/ods/surface/sol/01492/opgs/edr/fcam/FLB_529940227EDR_F0582046FHAZ00206M_.JPG', 'earth_date': '2016-10-17', 'rover': {'id': 5, 'name': 'Curiosity', 'landing_date': '2012-08-06', 'launch_date': '2011-11-26', 'status': 'active'}} \n",
            "\n",
            "\n",
            "\n",
            "http://mars.jpl.nasa.gov/msl-raw-images/proj/msl/redops/ods/surface/sol/01492/opgs/edr/fcam/FLB_529940227EDR_F0582046FHAZ00206M_.JPG\n"
          ],
          "name": "stdout"
        }
      ]
    },
    {
      "cell_type": "markdown",
      "metadata": {
        "id": "YNx0AQXCpZuG"
      },
      "source": [
        "The Score and average one"
      ]
    },
    {
      "cell_type": "code",
      "metadata": {
        "colab": {
          "base_uri": "https://localhost:8080/"
        },
        "id": "8ms9C4d4_Kt_",
        "outputId": "32ee3634-81bb-4db3-9b3e-7e11633cf64c"
      },
      "source": [
        "marks = []\n",
        "tests = int(input(\"How many tests? \"))\n",
        "Total = 0\n",
        "for counter in range(tests):\n",
        "  mar = int(input(\"what marks? \"))\n",
        "  marks.append(mar)\n",
        "  Total = (Total + mar)\n",
        "Average = (Total / tests)\n",
        "print(marks)\n",
        "print(Average)\n",
        "print(Total)"
      ],
      "execution_count": null,
      "outputs": [
        {
          "output_type": "stream",
          "text": [
            "How many tests? 3\n",
            "what marks? 12\n",
            "what marks? 13\n",
            "what marks? 14\n",
            "[12, 13, 14]\n",
            "13.0\n",
            "39\n"
          ],
          "name": "stdout"
        }
      ]
    },
    {
      "cell_type": "code",
      "metadata": {
        "id": "-Hzx8GSZFvd0",
        "colab": {
          "base_uri": "https://localhost:8080/"
        },
        "outputId": "46f21953-4bdb-43e6-f8f3-d448483128cd"
      },
      "source": [
        "friends = ['Dinal','Senhas','Kenul','Binuk','Thumidu','Fallnob',]\n",
        "print(friends[0])\n",
        "print(friends[-1])\n",
        "print(friends[0:3])\n",
        "friends[3] = \"Daham\"\n",
        "print(friends)\n",
        "friends.insert(1,\"Thenuk\")\n",
        "print(friends)\n",
        "friends.remove(\"Daham\")\n",
        "print(friends)\n",
        "friends.pop(4)\n",
        "print(friends)\n"
      ],
      "execution_count": null,
      "outputs": [
        {
          "output_type": "stream",
          "text": [
            "Dinal\n",
            "Fallnob\n",
            "['Dinal', 'Senhas', 'Kenul']\n",
            "['Dinal', 'Senhas', 'Kenul', 'Daham', 'Thumidu', 'Fallnob']\n",
            "['Dinal', 'Thenuk', 'Senhas', 'Kenul', 'Daham', 'Thumidu', 'Fallnob']\n",
            "['Dinal', 'Thenuk', 'Senhas', 'Kenul', 'Thumidu', 'Fallnob']\n",
            "['Dinal', 'Thenuk', 'Senhas', 'Kenul', 'Fallnob']\n"
          ],
          "name": "stdout"
        }
      ]
    }
  ]
}