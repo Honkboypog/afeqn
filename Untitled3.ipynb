{
  "nbformat": 4,
  "nbformat_minor": 0,
  "metadata": {
    "colab": {
      "name": "Untitled3.ipynb",
      "provenance": [],
      "authorship_tag": "ABX9TyNoGbM6jzjrYEO/DG9WpQVx",
      "include_colab_link": true
    },
    "kernelspec": {
      "name": "python3",
      "display_name": "Python 3"
    },
    "language_info": {
      "name": "python"
    }
  },
  "cells": [
    {
      "cell_type": "markdown",
      "metadata": {
        "id": "view-in-github",
        "colab_type": "text"
      },
      "source": [
        "<a href=\"https://colab.research.google.com/github/Honkboypog/afeqn/blob/main/Untitled3.ipynb\" target=\"_parent\"><img src=\"https://colab.research.google.com/assets/colab-badge.svg\" alt=\"Open In Colab\"/></a>"
      ]
    },
    {
      "cell_type": "code",
      "execution_count": null,
      "metadata": {
        "id": "gS_WZ21aYU09"
      },
      "outputs": [],
      "source": [
        "numbers=[]\n",
        "for i in range(102, 260):\n",
        "    if (i%7==0) and (i%5!=0):\n",
        "        numbers.append(str(i))\n",
        "\n",
        "print(','.join(numbers))"
      ]
    },
    {
      "cell_type": "code",
      "source": [
        "class text():\n",
        "    def __init__(self):\n",
        "        self.str1 = \"\"\n",
        "\n",
        "    def input_of_one(self):\n",
        "        self.str1 = input()\n",
        "\n",
        "    def Print_it(self):\n",
        "        print(self.str1.upper())\n",
        "\n",
        "str1 = text()\n",
        "str1.input_of_one()\n",
        "str1.Print_it()\n"
      ],
      "metadata": {
        "id": "Xtl-THzFYXtX"
      },
      "execution_count": null,
      "outputs": []
    },
    {
      "cell_type": "code",
      "source": [
        "from math import sqrt\n",
        "C = 50\n",
        "H = 30\n",
        "D = int(input(\"What do you want D to be? \"))\n",
        "Q = sqrt(D)\n",
        "print(Q)\n",
        "print(Q, \"=\", 2 ,'*', C, \"*\", D, \"/\",H )"
      ],
      "metadata": {
        "id": "N0a6QtI2Ya7o"
      },
      "execution_count": null,
      "outputs": []
    }
  ]
}