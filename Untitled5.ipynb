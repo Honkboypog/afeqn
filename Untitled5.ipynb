{
  "nbformat": 4,
  "nbformat_minor": 0,
  "metadata": {
    "colab": {
      "name": "Untitled5.ipynb",
      "provenance": [],
      "collapsed_sections": [],
      "authorship_tag": "ABX9TyM6dsRFJOba/MELj3Lh4Kuu",
      "include_colab_link": true
    },
    "kernelspec": {
      "name": "python3",
      "display_name": "Python 3"
    },
    "language_info": {
      "name": "python"
    }
  },
  "cells": [
    {
      "cell_type": "markdown",
      "metadata": {
        "id": "view-in-github",
        "colab_type": "text"
      },
      "source": [
        "<a href=\"https://colab.research.google.com/github/Honkboypog/afeqn/blob/main/Untitled5.ipynb\" target=\"_parent\"><img src=\"https://colab.research.google.com/assets/colab-badge.svg\" alt=\"Open In Colab\"/></a>"
      ]
    },
    {
      "cell_type": "code",
      "source": [
        "import numpy as np"
      ],
      "metadata": {
        "id": "JZQcPArQpjSu"
      },
      "execution_count": 2,
      "outputs": []
    },
    {
      "cell_type": "code",
      "source": [
        "Capalphabet = ['A','B','C','D','E','F','G','H','I','J','K','L','M','N','O','P','Q','R','S','T','U','V','W','X','Y','Z']\n",
        "Loweralphabet = ['a','b','c','d','e','f','g','h','i','j','k','l','m','n','o','p','q','r','s','t','u','v','w','x','y','z']\n",
        "numbers = ['0','1','2','3','4','5','6','7','8','9']\n",
        "symbols =['$','#','@']\n",
        "password = input('What is the password? ')\n",
        "lifes = 3\n",
        "rule1 = False\n",
        "rule2 = False\n",
        "rule3 = False\n",
        "rule4 = False\n",
        "rule5 = False\n",
        "rule6 = False\n",
        "for i in password:\n",
        "  if i in Capalphabet:\n",
        "    rule1 = True\n",
        "  elif i in Loweralphabet :\n",
        "    rule2 = True\n",
        "  elif i in numbers:\n",
        "    rule3 = True\n",
        "  elif i in symbols:\n",
        "    rule4 = True\n",
        "  else:\n",
        "    print('Factor 1')\n",
        "if rule1 == True:\n",
        "  print('Factor correct')\n",
        "elif rule2 == True:\n",
        "  print('Factor correct')\n",
        "elif rule3 == True:\n",
        "  print('Factor correct')\n",
        "elif rule4 == True:\n",
        "  print('Factor correct')\n",
        "if len(password) > 6:\n",
        "  rule5 = True\n",
        "else:\n",
        "  print('Factor complete')\n",
        "if len(password) > 12:\n",
        "  print('Factor 2')\n",
        "else:\n",
        "  rule6 = True\n",
        "if rule1 == True and rule2 == True and rule3 == True and rule4 == True and rule5 == True and rule6 == True:\n",
        "  print(\"Valid Password\")\n",
        "else: \n",
        "  print(\"The password does not match the criteria\")\n",
        "Answer = input(\"What is the confirm password\")\n",
        "if Answer == password:\n",
        "  print(\"try again\")\n",
        "else:\n",
        "  print(\"K\")\n",
        "question = input(\"please type the password.\")\n",
        "\n",
        "if question == password:\n",
        "  print(\"You shall enter the website\")\n",
        "else:\n",
        "  lifes - 1\n",
        "if lifes == 0:\n",
        "  break\n",
        "else:\n",
        "  print(\"nice job\")"
      ],
      "metadata": {
        "colab": {
          "base_uri": "https://localhost:8080/",
          "height": 253
        },
        "id": "306nv4Eco3fK",
        "outputId": "3b380a47-d0a6-4bb1-9bb6-ef8f5db72d1d"
      },
      "execution_count": 11,
      "outputs": [
        {
          "name": "stdout",
          "output_type": "stream",
          "text": [
            "What is the password? dad\n",
            "Factor correct\n",
            "Factor complete\n",
            "The password does not match the criteria\n",
            "What is the confirm passwordefa\n",
            "K\n",
            "please type the password.edac'\n"
          ]
        },
        {
          "output_type": "error",
          "ename": "SyntaxError",
          "evalue": "ignored",
          "traceback": [
            "\u001b[0;36m  File \u001b[0;32m\"<ipython-input-11-36f2fe5e73a3>\"\u001b[0;36m, line \u001b[0;32m56\u001b[0m\n\u001b[0;31m    break\u001b[0m\n\u001b[0m    ^\u001b[0m\n\u001b[0;31mSyntaxError\u001b[0m\u001b[0;31m:\u001b[0m 'break' outside loop\n"
          ]
        }
      ]
    }
  ]
}