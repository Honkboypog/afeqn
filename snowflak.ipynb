{
  "nbformat": 4,
  "nbformat_minor": 0,
  "metadata": {
    "colab": {
      "name": "Untitled1.ipynb",
      "provenance": [],
      "authorship_tag": "ABX9TyMNl38sPLJUSHprfmrfH1ax",
      "include_colab_link": true
    },
    "kernelspec": {
      "name": "python3",
      "display_name": "Python 3"
    },
    "language_info": {
      "name": "python"
    }
  },
  "cells": [
    {
      "cell_type": "markdown",
      "metadata": {
        "id": "view-in-github",
        "colab_type": "text"
      },
      "source": [
        "<a href=\"https://colab.research.google.com/github/Honkboypog/afeqn/blob/main/snowflak.ipynb\" target=\"_parent\"><img src=\"https://colab.research.google.com/assets/colab-badge.svg\" alt=\"Open In Colab\"/></a>"
      ]
    },
    {
      "cell_type": "code",
      "source": [
        "!pip3 install ColabTurtle"
      ],
      "metadata": {
        "colab": {
          "base_uri": "https://localhost:8080/"
        },
        "id": "sft1ugkWRq7H",
        "outputId": "b958733f-360d-490f-ae77-9868ce3f1302"
      },
      "execution_count": null,
      "outputs": [
        {
          "output_type": "stream",
          "name": "stdout",
          "text": [
            "Collecting ColabTurtle\n",
            "  Downloading ColabTurtle-2.1.0.tar.gz (6.8 kB)\n",
            "Building wheels for collected packages: ColabTurtle\n",
            "  Building wheel for ColabTurtle (setup.py) ... \u001b[?25l\u001b[?25hdone\n",
            "  Created wheel for ColabTurtle: filename=ColabTurtle-2.1.0-py3-none-any.whl size=7655 sha256=11ef1eac0babd70e6416bfacbb99eff941c49d0cb06408ef545c3599c8c377cd\n",
            "  Stored in directory: /root/.cache/pip/wheels/0d/ab/65/cc4478508751448dfb4ecb20a6533082855c227dfce8c13902\n",
            "Successfully built ColabTurtle\n",
            "Installing collected packages: ColabTurtle\n",
            "Successfully installed ColabTurtle-2.1.0\n"
          ]
        }
      ]
    },
    {
      "cell_type": "code",
      "execution_count": 7,
      "metadata": {
        "colab": {
          "base_uri": "https://localhost:8080/",
          "height": 521
        },
        "id": "NIWD7qi3RlHp",
        "outputId": "aae6c563-3d67-43bb-be2f-0cec1a082b2c"
      },
      "outputs": [
        {
          "output_type": "display_data",
          "data": {
            "text/html": [
              "\n",
              "      <svg width=\"500\" height=\"500\">\n",
              "        <rect width=\"100%\" height=\"100%\" fill=\"white\"/>\n",
              "        <line x1=\"250\" y1=\"250\" x2=\"250.0\" y2=\"50.0\" stroke-linecap=\"round\" style=\"stroke:lightblue;stroke-width:15\"/><line x1=\"250.0\" y1=\"50.0\" x2=\"250\" y2=\"250\" stroke-linecap=\"round\" style=\"stroke:lightblue;stroke-width:15\"/><line x1=\"250\" y1=\"250\" x2=\"50.0\" y2=\"250.0\" stroke-linecap=\"round\" style=\"stroke:lightblue;stroke-width:15\"/><line x1=\"50.0\" y1=\"250.0\" x2=\"250\" y2=\"250\" stroke-linecap=\"round\" style=\"stroke:lightblue;stroke-width:15\"/><line x1=\"250\" y1=\"250\" x2=\"250.0\" y2=\"450.0\" stroke-linecap=\"round\" style=\"stroke:lightblue;stroke-width:15\"/><line x1=\"250.0\" y1=\"450.0\" x2=\"250\" y2=\"250\" stroke-linecap=\"round\" style=\"stroke:lightblue;stroke-width:15\"/><line x1=\"250\" y1=\"250\" x2=\"450.0\" y2=\"250.0\" stroke-linecap=\"round\" style=\"stroke:lightblue;stroke-width:15\"/><line x1=\"450.0\" y1=\"250.0\" x2=\"250\" y2=\"250\" stroke-linecap=\"round\" style=\"stroke:lightblue;stroke-width:15\"/><line x1=\"250\" y1=\"250\" x2=\"391.421\" y2=\"108.579\" stroke-linecap=\"round\" style=\"stroke:lightblue;stroke-width:15\"/><line x1=\"391.421\" y1=\"108.579\" x2=\"250\" y2=\"250\" stroke-linecap=\"round\" style=\"stroke:lightblue;stroke-width:15\"/><line x1=\"250\" y1=\"250\" x2=\"108.579\" y2=\"108.579\" stroke-linecap=\"round\" style=\"stroke:lightblue;stroke-width:15\"/><line x1=\"108.579\" y1=\"108.579\" x2=\"250\" y2=\"250\" stroke-linecap=\"round\" style=\"stroke:lightblue;stroke-width:15\"/><line x1=\"250\" y1=\"250\" x2=\"108.579\" y2=\"391.421\" stroke-linecap=\"round\" style=\"stroke:lightblue;stroke-width:15\"/><line x1=\"108.579\" y1=\"391.421\" x2=\"250\" y2=\"250\" stroke-linecap=\"round\" style=\"stroke:lightblue;stroke-width:15\"/><line x1=\"250\" y1=\"250\" x2=\"391.421\" y2=\"391.421\" stroke-linecap=\"round\" style=\"stroke:lightblue;stroke-width:15\"/><line x1=\"391.421\" y1=\"391.421\" x2=\"356.066\" y2=\"356.066\" stroke-linecap=\"round\" style=\"stroke:lightblue;stroke-width:15\"/><line x1=\"356.066\" y1=\"356.066\" x2=\"406.066\" y2=\"356.066\" stroke-linecap=\"round\" style=\"stroke:lightblue;stroke-width:15\"/><line x1=\"400\" y1=\"250\" x2=\"435.355\" y2=\"214.645\" stroke-linecap=\"round\" style=\"stroke:lightblue;stroke-width:15\"/><line x1=\"350\" y1=\"150\" x2=\"350.0\" y2=\"100.0\" stroke-linecap=\"round\" style=\"stroke:lightblue;stroke-width:15\"/><line x1=\"250\" y1=\"100\" x2=\"214.645\" y2=\"64.645\" stroke-linecap=\"round\" style=\"stroke:lightblue;stroke-width:15\"/><line x1=\"150\" y1=\"150\" x2=\"100.0\" y2=\"150.0\" stroke-linecap=\"round\" style=\"stroke:lightblue;stroke-width:15\"/><line x1=\"100\" y1=\"250\" x2=\"64.645\" y2=\"285.355\" stroke-linecap=\"round\" style=\"stroke:lightblue;stroke-width:15\"/><line x1=\"250\" y1=\"350\" x2=\"250.0\" y2=\"400.0\" stroke-linecap=\"round\" style=\"stroke:lightblue;stroke-width:15\"/><line x1=\"250.0\" y1=\"400.0\" x2=\"285.355\" y2=\"435.355\" stroke-linecap=\"round\" style=\"stroke:lightblue;stroke-width:15\"/><line x1=\"150\" y1=\"350\" x2=\"150.0\" y2=\"400.0\" stroke-linecap=\"round\" style=\"stroke:lightblue;stroke-width:15\"/><line x1=\"400\" y1=\"250\" x2=\"435.355\" y2=\"285.355\" stroke-linecap=\"round\" style=\"stroke:lightblue;stroke-width:15\"/><line x1=\"350\" y1=\"150\" x2=\"400.0\" y2=\"150.0\" stroke-linecap=\"round\" style=\"stroke:lightblue;stroke-width:15\"/><line x1=\"250\" y1=\"100\" x2=\"285.355\" y2=\"64.645\" stroke-linecap=\"round\" style=\"stroke:lightblue;stroke-width:15\"/><line x1=\"150\" y1=\"150\" x2=\"150.0\" y2=\"100.0\" stroke-linecap=\"round\" style=\"stroke:lightblue;stroke-width:15\"/><line x1=\"100\" y1=\"250\" x2=\"64.645\" y2=\"214.645\" stroke-linecap=\"round\" style=\"stroke:lightblue;stroke-width:15\"/><line x1=\"250\" y1=\"400\" x2=\"214.645\" y2=\"435.355\" stroke-linecap=\"round\" style=\"stroke:lightblue;stroke-width:15\"/><line x1=\"150\" y1=\"350\" x2=\"100.0\" y2=\"350.0\" stroke-linecap=\"round\" style=\"stroke:lightblue;stroke-width:15\"/><line x1=\"350\" y1=\"350\" x2=\"350.0\" y2=\"400.0\" stroke-linecap=\"round\" style=\"stroke:lightblue;stroke-width:15\"/>\n",
              "        <g visibility=hidden transform=\"rotate(180,350.0,400.0) translate(332.0, 382.0)\">\n",
              "<path style=\" stroke:none;fill-rule:evenodd;fill:lightblue;fill-opacity:1;\" d=\"M 18.214844 0.632812 C 16.109375 1.800781 15.011719 4.074219 15.074219 7.132812 L 15.085938 7.652344 L 14.785156 7.496094 C 13.476562 6.824219 11.957031 6.671875 10.40625 7.066406 C 8.46875 7.550781 6.515625 9.15625 4.394531 11.992188 C 3.0625 13.777344 2.679688 14.636719 3.042969 15.027344 L 3.15625 15.152344 L 3.519531 15.152344 C 4.238281 15.152344 4.828125 14.886719 8.1875 13.039062 C 9.386719 12.378906 10.371094 11.839844 10.378906 11.839844 C 10.386719 11.839844 10.355469 11.929688 10.304688 12.035156 C 9.832031 13.09375 9.257812 14.820312 8.96875 16.078125 C 7.914062 20.652344 8.617188 24.53125 11.070312 27.660156 C 11.351562 28.015625 11.363281 27.914062 10.972656 28.382812 C 8.925781 30.84375 7.945312 33.28125 8.238281 35.1875 C 8.289062 35.527344 8.28125 35.523438 8.917969 35.523438 C 10.941406 35.523438 13.074219 34.207031 15.136719 31.6875 C 15.359375 31.417969 15.328125 31.425781 15.5625 31.574219 C 16.292969 32.042969 18.023438 32.964844 18.175781 32.964844 C 18.335938 32.964844 19.941406 32.210938 20.828125 31.71875 C 20.996094 31.625 21.136719 31.554688 21.136719 31.558594 C 21.203125 31.664062 21.898438 32.414062 22.222656 32.730469 C 23.835938 34.300781 25.5625 35.132812 27.582031 35.300781 C 27.90625 35.328125 27.9375 35.308594 28.007812 34.984375 C 28.382812 33.242188 27.625 30.925781 25.863281 28.425781 L 25.542969 27.96875 L 25.699219 27.785156 C 28.945312 23.960938 29.132812 18.699219 26.257812 11.96875 L 26.207031 11.84375 L 27.945312 12.703125 C 31.53125 14.476562 32.316406 14.800781 33.03125 14.800781 C 33.976562 14.800781 33.78125 13.9375 32.472656 12.292969 C 28.519531 7.355469 25.394531 5.925781 21.921875 7.472656 L 21.558594 7.636719 L 21.578125 7.542969 C 21.699219 6.992188 21.761719 5.742188 21.699219 5.164062 C 21.496094 3.296875 20.664062 1.964844 19.003906 0.855469 C 18.480469 0.503906 18.457031 0.5 18.214844 0.632812\"/>\n",
              "</g>\n",
              "      </svg>\n",
              "    "
            ],
            "text/plain": [
              "<IPython.core.display.HTML object>"
            ]
          },
          "metadata": {}
        }
      ],
      "source": [
        "from ColabTurtle.Turtle import *\n",
        "initializeTurtle(initial_window_size=(500,500)) \n",
        "bgcolor('white')\n",
        "speed(13)\n",
        "width(15)\n",
        "color(\"lightblue\")\n",
        "def draw_bigline():\n",
        "    forward(200)\n",
        "\n",
        "def draw_smallline():\n",
        "    forward(25)\n",
        "\n",
        "def draw_mediumline():\n",
        "    forward(50)\n",
        "\n",
        "up()\n",
        "setpos(250,250)\n",
        "down()\n",
        "draw_bigline()  \n",
        "setpos(250,250)\n",
        "left(90)\n",
        "draw_bigline()  \n",
        "setpos(250,250)\n",
        "left(90)\n",
        "draw_bigline()\n",
        "setpos(250,250)\n",
        "left(90)\n",
        "draw_bigline()\n",
        "\n",
        "setpos(250,250)\n",
        "left(45)\n",
        "draw_bigline()  \n",
        "setpos(250,250)\n",
        "left(90)\n",
        "draw_bigline()  \n",
        "setpos(250,250)\n",
        "left(90)\n",
        "draw_bigline()\n",
        "setpos(250,250)\n",
        "left(90)\n",
        "draw_bigline()\n",
        "\n",
        "backward(50)\n",
        "left(45)\n",
        "draw_mediumline()\n",
        "up()\n",
        "setpos(400,250)\n",
        "down()\n",
        "left(45)\n",
        "draw_mediumline()\n",
        "up()\n",
        "setpos(350,150)\n",
        "left(45)\n",
        "down()\n",
        "draw_mediumline()\n",
        "up()\n",
        "setpos(250,100)\n",
        "left(45)\n",
        "down()\n",
        "draw_mediumline()\n",
        "up()\n",
        "setpos(150,150)\n",
        "left(45)\n",
        "down()\n",
        "draw_mediumline()\n",
        "up()\n",
        "setpos(100,250)\n",
        "left(45)\n",
        "down()\n",
        "draw_mediumline()\n",
        "up()\n",
        "setpos(250,350)\n",
        "left(45)\n",
        "down()\n",
        "draw_mediumline()\n",
        "up()\n",
        "left(45)\n",
        "down()\n",
        "draw_mediumline()\n",
        "up()\n",
        "setpos(150,350)\n",
        "right(45)\n",
        "down()\n",
        "draw_mediumline()\n",
        "up()\n",
        "\n",
        "setpos(250,250)\n",
        "left(90)\n",
        "draw_bigline()\n",
        "\n",
        "backward(50)\n",
        "left(270)\n",
        "draw_mediumline()\n",
        "up()\n",
        "setpos(400,250)\n",
        "down()\n",
        "left(45)\n",
        "draw_mediumline()\n",
        "up()\n",
        "setpos(350,150)\n",
        "left(45)\n",
        "down()\n",
        "draw_mediumline()\n",
        "up()\n",
        "setpos(250,100)\n",
        "left(45)\n",
        "down()\n",
        "draw_mediumline()\n",
        "up()\n",
        "setpos(150,150)\n",
        "left(45)\n",
        "down()\n",
        "draw_mediumline()\n",
        "up()\n",
        "setpos(100,250)\n",
        "left(45)\n",
        "down()\n",
        "draw_mediumline()\n",
        "up()\n",
        "setpos(250,400)\n",
        "left(90)\n",
        "down()\n",
        "draw_mediumline()\n",
        "up()\n",
        "setpos(150,350)\n",
        "right(45)\n",
        "down()\n",
        "draw_mediumline()\n",
        "up()\n",
        "setpos(350,350)\n",
        "left(90)\n",
        "down()\n",
        "draw_mediumline()\n",
        "hideturtle()"
      ]
    },
    {
      "cell_type": "code",
      "source": [
        ""
      ],
      "metadata": {
        "id": "IedrWuntUTC7"
      },
      "execution_count": null,
      "outputs": []
    }
  ]
}